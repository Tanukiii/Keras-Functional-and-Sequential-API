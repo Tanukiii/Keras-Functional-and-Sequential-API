{
 "cells": [
  {
   "cell_type": "markdown",
   "metadata": {},
   "source": [
    "# Keras Functional  and Sequential APIの使い方"
   ]
  },
  {
   "cell_type": "markdown",
   "metadata": {},
   "source": [
    "## Preparcing Tensorflow2.x and Dataset MNIST"
   ]
  },
  {
   "cell_type": "code",
   "execution_count": 6,
   "metadata": {},
   "outputs": [
    {
     "name": "stdout",
     "output_type": "stream",
     "text": [
      "(60000, 28, 28) (10000, 28, 28)\n"
     ]
    }
   ],
   "source": [
    "import tensorflow as tf\n",
    "import keras\n",
    "\n",
    "# Mnist\n",
    "mnist = keras.datasets.mnist\n",
    "(x_train, y_train), (x_test, y_test) = mnist.load_data()\n",
    "\n",
    "# Normalization 0-255の値が入っているので、0-1に収まるよう正規化します\n",
    "x_train, x_test = x_train / 255.0, x_test / 255.0\n",
    "\n",
    "# Check the data\n",
    "# Now, each row has one data\n",
    "print(x_train.shape, x_test.shape)"
   ]
  },
  {
   "cell_type": "markdown",
   "metadata": {},
   "source": [
    "# Sequentialの場合の書き方"
   ]
  },
  {
   "cell_type": "markdown",
   "metadata": {},
   "source": [
    "### ・keras.models.Sequential()にlistで与える\n",
    "\n",
    "### ・model.add()で1層ずつ足してくかしてモデルをつくる\n",
    "\n",
    "### 最期に学習条件を決めてcompileすれば完成です。\n"
   ]
  },
  {
   "cell_type": "code",
   "execution_count": 9,
   "metadata": {
    "scrolled": true
   },
   "outputs": [
    {
     "name": "stdout",
     "output_type": "stream",
     "text": [
      "Model: \"sequential_2\"\n",
      "_________________________________________________________________\n",
      "Layer (type)                 Output Shape              Param #   \n",
      "=================================================================\n",
      "flatten_1 (Flatten)          (None, 784)               0         \n",
      "_________________________________________________________________\n",
      "dense_2 (Dense)              (None, 128)               100480    \n",
      "_________________________________________________________________\n",
      "dropout_1 (Dropout)          (None, 128)               0         \n",
      "_________________________________________________________________\n",
      "dense_3 (Dense)              (None, 10)                1290      \n",
      "=================================================================\n",
      "Total params: 101,770\n",
      "Trainable params: 101,770\n",
      "Non-trainable params: 0\n",
      "_________________________________________________________________\n"
     ]
    },
    {
     "data": {
      "text/plain": [
       "None"
      ]
     },
     "metadata": {},
     "output_type": "display_data"
    },
    {
     "name": "stdout",
     "output_type": "stream",
     "text": [
      "Epoch 1/5\n",
      "1688/1688 [==============================] - 2s 957us/step - loss: 0.3198 - accuracy: 0.9070 - val_loss: 0.1254 - val_accuracy: 0.9678\n",
      "Epoch 2/5\n",
      "1688/1688 [==============================] - 1s 818us/step - loss: 0.1527 - accuracy: 0.9547 - val_loss: 0.0944 - val_accuracy: 0.9730\n",
      "Epoch 3/5\n",
      "1688/1688 [==============================] - 1s 817us/step - loss: 0.1131 - accuracy: 0.9656 - val_loss: 0.0790 - val_accuracy: 0.9767\n",
      "Epoch 4/5\n",
      "1688/1688 [==============================] - 1s 840us/step - loss: 0.0914 - accuracy: 0.9724 - val_loss: 0.0713 - val_accuracy: 0.9792\n",
      "Epoch 5/5\n",
      "1688/1688 [==============================] - 1s 827us/step - loss: 0.0781 - accuracy: 0.9750 - val_loss: 0.0673 - val_accuracy: 0.9813\n",
      "313/313 [==============================] - 0s 613us/step - loss: 0.0716 - accuracy: 0.9782\n",
      "[0.07159699499607086, 0.9782000184059143]\n"
     ]
    }
   ],
   "source": [
    "# Sequentialモデルを定義します\n",
    "\n",
    "model = keras.models.Sequential()\n",
    "\n",
    "model.add(tf.keras.layers.Flatten(input_shape =(28, 28)))\n",
    "model.add(tf.keras.layers.Dense(128, activation ='relu'))\n",
    "model.add(tf.keras.layers.Dropout(0.2))\n",
    "model.add(tf.keras.layers.Dense(10, activation ='softmax'))\n",
    "\n",
    "# モデルをcompileします\n",
    "model.compile(optimizer='adam',\n",
    "              loss='sparse_categorical_crossentropy',\n",
    "              metrics=['accuracy'])\n",
    "display(model.summary())\n",
    "\n",
    "# 学習します\n",
    "hist = model.fit(x_train, y_train, validation_split=0.1, epochs=5)\n",
    "\n",
    "# テストデータの予測精度を計算します\n",
    "print(model.evaluate(x_test, y_test))"
   ]
  },
  {
   "cell_type": "code",
   "execution_count": null,
   "metadata": {},
   "outputs": [],
   "source": []
  },
  {
   "cell_type": "markdown",
   "metadata": {},
   "source": [
    "# Functional の場合の書き方"
   ]
  },
  {
   "cell_type": "markdown",
   "metadata": {},
   "source": [
    "## ①入力が１つの場合"
   ]
  },
  {
   "cell_type": "markdown",
   "metadata": {},
   "source": [
    "### 上記のSequentialの場合とまったく同じモデルをfunctional APIで書くと次のようになります。"
   ]
  },
  {
   "cell_type": "markdown",
   "metadata": {},
   "source": [
    "Sequentialだと入力数と出力数がどちらも１つと決まってるのでSequentialでネットワーク構造を定義したら完成でしたが、functional APIだと入力と出力をどちらも複数設定できますので、ネットワーク構造をkeras.layersで定義する部分の２つを書いておいて、入力と出力がいくつあるのかkeras.Model()で定義して完成となります。"
   ]
  },
  {
   "cell_type": "code",
   "execution_count": 11,
   "metadata": {},
   "outputs": [
    {
     "name": "stdout",
     "output_type": "stream",
     "text": [
      "Model: \"functional_3\"\n",
      "_________________________________________________________________\n",
      "Layer (type)                 Output Shape              Param #   \n",
      "=================================================================\n",
      "input_2 (InputLayer)         [(None, 28, 28)]          0         \n",
      "_________________________________________________________________\n",
      "flatten_3 (Flatten)          (None, 784)               0         \n",
      "_________________________________________________________________\n",
      "dense_6 (Dense)              (None, 128)               100480    \n",
      "_________________________________________________________________\n",
      "dropout_3 (Dropout)          (None, 128)               0         \n",
      "_________________________________________________________________\n",
      "dense_7 (Dense)              (None, 10)                1290      \n",
      "=================================================================\n",
      "Total params: 101,770\n",
      "Trainable params: 101,770\n",
      "Non-trainable params: 0\n",
      "_________________________________________________________________\n"
     ]
    },
    {
     "data": {
      "text/plain": [
       "None"
      ]
     },
     "metadata": {},
     "output_type": "display_data"
    },
    {
     "name": "stdout",
     "output_type": "stream",
     "text": [
      "Epoch 1/5\n",
      "1688/1688 [==============================] - 2s 903us/step - loss: 0.3117 - accuracy: 0.9086 - val_loss: 0.1193 - val_accuracy: 0.9677\n",
      "Epoch 2/5\n",
      "1688/1688 [==============================] - 1s 800us/step - loss: 0.1533 - accuracy: 0.9540 - val_loss: 0.0920 - val_accuracy: 0.9728\n",
      "Epoch 3/5\n",
      "1688/1688 [==============================] - 1s 799us/step - loss: 0.1156 - accuracy: 0.9654 - val_loss: 0.0822 - val_accuracy: 0.9760\n",
      "Epoch 4/5\n",
      "1688/1688 [==============================] - 1s 800us/step - loss: 0.0945 - accuracy: 0.9707 - val_loss: 0.0775 - val_accuracy: 0.9788\n",
      "Epoch 5/5\n",
      "1688/1688 [==============================] - 1s 813us/step - loss: 0.0787 - accuracy: 0.9756 - val_loss: 0.0750 - val_accuracy: 0.9790\n",
      "313/313 [==============================] - 0s 519us/step - loss: 0.0782 - accuracy: 0.9768\n",
      "[0.0782335177063942, 0.9768000245094299]\n"
     ]
    }
   ],
   "source": [
    "# モデル構造を定義します\n",
    "inputs = tf.keras.layers.Input(shape=(28, 28))\n",
    "x = tf.keras.layers.Flatten()(inputs)\n",
    "x = tf.keras.layers.Dense(128, activation='relu')(x)\n",
    "x = tf.keras.layers.Dropout(0.2)(x)\n",
    "predictions = tf.keras.layers.Dense(10, activation='softmax')(x)\n",
    "\n",
    "# 入出力を定義します\n",
    "model = keras.Model(inputs=inputs, outputs=predictions)\n",
    "\n",
    "# モデルをcompileします\n",
    "model.compile(optimizer='adam',\n",
    "              loss='sparse_categorical_crossentropy',\n",
    "              metrics=['accuracy'])\n",
    "display(model.summary())\n",
    "\n",
    "# 学習します\n",
    "hist = model.fit(x_train, y_train, validation_split=0.1, epochs=5)\n",
    "\n",
    "# テストデータの予測精度を計算します\n",
    "print(model.evaluate(x_test, y_test))"
   ]
  },
  {
   "cell_type": "markdown",
   "metadata": {},
   "source": [
    "(Note)\n",
    "\n",
    "学習データとテストデータのようにkerasの外からkerasモデルに渡すデータは必ず最初にkeras.layers.Input()で受け取り、そこから加える層の右にその層への入力を（）付きで与えるように書いて、1層ずつ増やしていくという書き方になります。\n",
    "\n",
    "下の例だとpredictionsに入力から出力までのInput => Flatten => Dense(128, relu) => Dropout => Dense(10, softmax)までのネットワークが全部入ってますので、Sequentialで書いたmodelと同じ内容になります"
   ]
  },
  {
   "cell_type": "markdown",
   "metadata": {},
   "source": [
    "## ② 入力が2つある場合(出力は１つ)"
   ]
  },
  {
   "cell_type": "markdown",
   "metadata": {},
   "source": [
    "入力が複数ある場合はinputが複数あるネットワークを書いて、keras.Model()にlistでinputを与えるようにします。下の例はmnistデータを2つに分けてkeras model内で結合してから同じネットワークに通すようにしたものです。"
   ]
  },
  {
   "cell_type": "code",
   "execution_count": 12,
   "metadata": {},
   "outputs": [
    {
     "name": "stdout",
     "output_type": "stream",
     "text": [
      "Model: \"functional_5\"\n",
      "__________________________________________________________________________________________________\n",
      "Layer (type)                    Output Shape         Param #     Connected to                     \n",
      "==================================================================================================\n",
      "input_3 (InputLayer)            [(None, 392)]        0                                            \n",
      "__________________________________________________________________________________________________\n",
      "input_4 (InputLayer)            [(None, 392)]        0                                            \n",
      "__________________________________________________________________________________________________\n",
      "concatenate (Concatenate)       (None, 784)          0           input_3[0][0]                    \n",
      "                                                                 input_4[0][0]                    \n",
      "__________________________________________________________________________________________________\n",
      "dense_8 (Dense)                 (None, 128)          100480      concatenate[0][0]                \n",
      "__________________________________________________________________________________________________\n",
      "dropout_4 (Dropout)             (None, 128)          0           dense_8[0][0]                    \n",
      "__________________________________________________________________________________________________\n",
      "dense_9 (Dense)                 (None, 10)           1290        dropout_4[0][0]                  \n",
      "==================================================================================================\n",
      "Total params: 101,770\n",
      "Trainable params: 101,770\n",
      "Non-trainable params: 0\n",
      "__________________________________________________________________________________________________\n"
     ]
    },
    {
     "data": {
      "text/plain": [
       "None"
      ]
     },
     "metadata": {},
     "output_type": "display_data"
    },
    {
     "name": "stdout",
     "output_type": "stream",
     "text": [
      "Epoch 1/5\n",
      "1688/1688 [==============================] - 2s 939us/step - loss: 0.3168 - accuracy: 0.9078 - val_loss: 0.1353 - val_accuracy: 0.9628\n",
      "Epoch 2/5\n",
      "1688/1688 [==============================] - 1s 847us/step - loss: 0.1555 - accuracy: 0.9542 - val_loss: 0.0946 - val_accuracy: 0.9733\n",
      "Epoch 3/5\n",
      "1688/1688 [==============================] - 1s 843us/step - loss: 0.1154 - accuracy: 0.9648 - val_loss: 0.0830 - val_accuracy: 0.9755\n",
      "Epoch 4/5\n",
      "1688/1688 [==============================] - 1s 868us/step - loss: 0.0947 - accuracy: 0.9707 - val_loss: 0.0758 - val_accuracy: 0.9782\n",
      "Epoch 5/5\n",
      "1688/1688 [==============================] - 1s 851us/step - loss: 0.0791 - accuracy: 0.9756 - val_loss: 0.0741 - val_accuracy: 0.9807\n",
      "313/313 [==============================] - 0s 570us/step - loss: 0.0805 - accuracy: 0.9760\n",
      "[0.08050625026226044, 0.9760000109672546]\n"
     ]
    }
   ],
   "source": [
    "# 複数入力のテストの為にxを分割してみます\n",
    "# 全ての行、３９２\n",
    "x_train2_1 = x_train.reshape(60000, 784)[:,:392]  # (60000, 392) \n",
    "x_train2_2 = x_train.reshape(60000, 784)[:,392:]  # (60000, 392)\n",
    "\n",
    "x_test2_1 = x_test.reshape(10000, 784)[:,:392] # (10000, 392)\n",
    "x_test2_2 = x_test.reshape(10000, 784)[:,392:] # (10000, 392)\n",
    "\n",
    "# Functional APIでモデルを定義します\n",
    "input1 = tf.keras.layers.Input(shape=(392,))\n",
    "input2 = tf.keras.layers.Input(shape=(392,))\n",
    "inputs = tf.keras.layers.concatenate([input1, input2])\n",
    "\n",
    "x = tf.keras.layers.Dense(128, activation='relu')(inputs)\n",
    "x = tf.keras.layers.Dropout(0.2)(x)\n",
    "predictions = keras.layers.Dense(10, activation='softmax')(x)\n",
    "\n",
    "# 入出力を定義します\n",
    "model = tf.keras.Model(inputs=[input1, input2], outputs=predictions)\n",
    "\n",
    "# モデルをcompileします\n",
    "model.compile(optimizer='adam',\n",
    "              loss='sparse_categorical_crossentropy',\n",
    "              metrics=['accuracy'])\n",
    "display(model.summary())\n",
    "\n",
    "# 学習します\n",
    "hist = model.fit([x_train2_1, x_train2_2], y_train, validation_split=0.1, epochs=5)\n",
    "\n",
    "# テストデータの予測精度を計算します\n",
    "print(model.evaluate([x_test2_1, x_test2_2], y_test))"
   ]
  },
  {
   "cell_type": "markdown",
   "metadata": {},
   "source": [
    "## ③ 入力と出力が2つある場合（損失関数は１つ）"
   ]
  },
  {
   "cell_type": "markdown",
   "metadata": {},
   "source": [
    "分岐を加えて出力が2つあるmodelに変えてみました。x1とx2の2つの経路に分岐していて、prediction1とprediction2がそれぞれの出力までのネットワーク情報をもっています。出力段が2つになったのでkeras.Model()に与える出力段も２つになります。"
   ]
  },
  {
   "cell_type": "code",
   "execution_count": 35,
   "metadata": {},
   "outputs": [
    {
     "name": "stdout",
     "output_type": "stream",
     "text": [
      "Model: \"functional_7\"\n",
      "__________________________________________________________________________________________________\n",
      "Layer (type)                    Output Shape         Param #     Connected to                     \n",
      "==================================================================================================\n",
      "input_5 (InputLayer)            [(None, 392)]        0                                            \n",
      "__________________________________________________________________________________________________\n",
      "input_6 (InputLayer)            [(None, 392)]        0                                            \n",
      "__________________________________________________________________________________________________\n",
      "concatenate_1 (Concatenate)     (None, 784)          0           input_5[0][0]                    \n",
      "                                                                 input_6[0][0]                    \n",
      "__________________________________________________________________________________________________\n",
      "concatenate_2 (Concatenate)     (None, 784)          0           input_5[0][0]                    \n",
      "                                                                 input_6[0][0]                    \n",
      "__________________________________________________________________________________________________\n",
      "dense_10 (Dense)                (None, 128)          100480      concatenate_1[0][0]              \n",
      "__________________________________________________________________________________________________\n",
      "dense_12 (Dense)                (None, 128)          100480      concatenate_2[0][0]              \n",
      "__________________________________________________________________________________________________\n",
      "dropout_5 (Dropout)             (None, 128)          0           dense_10[0][0]                   \n",
      "__________________________________________________________________________________________________\n",
      "dropout_6 (Dropout)             (None, 128)          0           dense_12[0][0]                   \n",
      "__________________________________________________________________________________________________\n",
      "dense_11 (Dense)                (None, 10)           1290        dropout_5[0][0]                  \n",
      "__________________________________________________________________________________________________\n",
      "dense_13 (Dense)                (None, 10)           1290        dropout_6[0][0]                  \n",
      "==================================================================================================\n",
      "Total params: 203,540\n",
      "Trainable params: 203,540\n",
      "Non-trainable params: 0\n",
      "__________________________________________________________________________________________________\n"
     ]
    },
    {
     "data": {
      "text/plain": [
       "None"
      ]
     },
     "metadata": {},
     "output_type": "display_data"
    },
    {
     "name": "stdout",
     "output_type": "stream",
     "text": [
      "Epoch 1/5\n",
      "1688/1688 [==============================] - 2s 1ms/step - loss: 0.6246 - dense_11_loss: 0.3107 - dense_13_loss: 0.3139 - dense_11_accuracy: 0.9101 - dense_13_accuracy: 0.9089 - val_loss: 0.2544 - val_dense_11_loss: 0.1275 - val_dense_13_loss: 0.1268 - val_dense_11_accuracy: 0.9668 - val_dense_13_accuracy: 0.96673 - dense_11_loss: 0.4245 - dense_13_loss: 0.4308 - dense_11_accuracy: 0.8755 - dense\n",
      "Epoch 2/5\n",
      "1688/1688 [==============================] - 2s 1ms/step - loss: 0.3003 - dense_11_loss: 0.1488 - dense_13_loss: 0.1516 - dense_11_accuracy: 0.9551 - dense_13_accuracy: 0.9541 - val_loss: 0.1972 - val_dense_11_loss: 0.0994 - val_dense_13_loss: 0.0977 - val_dense_11_accuracy: 0.9712 - val_dense_13_accuracy: 0.9713\n",
      "Epoch 3/5\n",
      "1688/1688 [==============================] - 2s 1ms/step - loss: 0.2271 - dense_11_loss: 0.1128 - dense_13_loss: 0.1143 - dense_11_accuracy: 0.9655 - dense_13_accuracy: 0.9651 - val_loss: 0.1647 - val_dense_11_loss: 0.0829 - val_dense_13_loss: 0.0818 - val_dense_11_accuracy: 0.9755 - val_dense_13_accuracy: 0.9768\n",
      "Epoch 4/5\n",
      "1688/1688 [==============================] - 2s 1ms/step - loss: 0.1804 - dense_11_loss: 0.0900 - dense_13_loss: 0.0904 - dense_11_accuracy: 0.9721 - dense_13_accuracy: 0.9717 - val_loss: 0.1626 - val_dense_11_loss: 0.0825 - val_dense_13_loss: 0.0801 - val_dense_11_accuracy: 0.9785 - val_dense_13_accuracy: 0.9790\n",
      "Epoch 5/5\n",
      "1688/1688 [==============================] - 2s 1ms/step - loss: 0.1543 - dense_11_loss: 0.0766 - dense_13_loss: 0.0777 - dense_11_accuracy: 0.9766 - dense_13_accuracy: 0.9760 - val_loss: 0.1518 - val_dense_11_loss: 0.0769 - val_dense_13_loss: 0.0749 - val_dense_11_accuracy: 0.9782 - val_dense_13_accuracy: 0.9797\n",
      "313/313 [==============================] - 0s 721us/step - loss: 0.1518 - dense_11_loss: 0.0752 - dense_13_loss: 0.0766 - dense_11_accuracy: 0.9768 - dense_13_accuracy: 0.9769\n",
      "[0.15180014073848724, 0.0751701146364212, 0.07663006335496902, 0.9768000245094299, 0.9768999814987183]\n"
     ]
    }
   ],
   "source": [
    "# 複数入力のテストの為にxを分割してみます\n",
    "x_train2_1 = x_train.reshape(60000, 784)[:,:392]\n",
    "x_train2_2 = x_train.reshape(60000, 784)[:,392:]\n",
    "x_test2_1 = x_test.reshape(10000, 784)[:,:392]\n",
    "x_test2_2 = x_test.reshape(10000, 784)[:,392:]\n",
    "\n",
    "# Functional APIでモデルを定義します\n",
    "input1 = keras.layers.Input(shape=(392,))\n",
    "input2 = keras.layers.Input(shape=(392,))\n",
    "\n",
    "# Prediction 1\n",
    "inputs1 = keras.layers.concatenate([input1, input2])\n",
    "x1 = keras.layers.Dense(128, activation='relu')(inputs1)\n",
    "x1 = keras.layers.Dropout(0.2)(x1)\n",
    "prediction1 = keras.layers.Dense(10, activation='softmax')(x1)\n",
    "\n",
    "# Prediction 2\n",
    "inputs2 = keras.layers.concatenate([input1, input2])\n",
    "x2 = keras.layers.Dense(128, activation='relu')(inputs2)\n",
    "x2 = keras.layers.Dropout(0.2)(x2)\n",
    "prediction2 = keras.layers.Dense(10, activation='softmax')(x2)\n",
    "\n",
    "# 入出力を定義します\n",
    "model = keras.Model(inputs=[input1, input2], outputs=[prediction1, prediction2])\n",
    "\n",
    "# モデルをcompileします\n",
    "model.compile(optimizer='adam',\n",
    "              loss='sparse_categorical_crossentropy',\n",
    "              metrics=['accuracy'])\n",
    "display(model.summary())\n",
    "\n",
    "# 学習します\n",
    "hist = model.fit([x_train2_1, x_train2_2], [y_train, y_train], \n",
    "                 validation_split=0.1, epochs=5)\n",
    "\n",
    "# テストデータの予測精度を計算します\n",
    "print(model.evaluate([x_test2_1, x_test2_2], [y_test, y_test]))"
   ]
  },
  {
   "cell_type": "markdown",
   "metadata": {},
   "source": [
    "# ④ 入力、出力、損失関数が2つある場合"
   ]
  },
  {
   "cell_type": "markdown",
   "metadata": {},
   "source": [
    "せっかく出力を分けたので損失関数も別々に入れてみます。\n",
    "\n",
    "modelを作るときにname=''で名付けておいて、compile()するときにlossを辞書型で渡せば出力ごとに異なる損失関数を使うことができます。下の例だと同じ損失関数を使ってますが、ぜんぜん違う損失関数を指定しても構いません。\n",
    "\n",
    "学習はトータルの損失関数を最小化するように進めますがデフォルトでは単純に合計するようです。加算比率をloss_weightsに辞書型で渡すことで指定することもできるので、以下では0.5ずつで加算するようにしています。"
   ]
  },
  {
   "cell_type": "code",
   "execution_count": 36,
   "metadata": {},
   "outputs": [
    {
     "name": "stdout",
     "output_type": "stream",
     "text": [
      "Model: \"functional_9\"\n",
      "__________________________________________________________________________________________________\n",
      "Layer (type)                    Output Shape         Param #     Connected to                     \n",
      "==================================================================================================\n",
      "input_7 (InputLayer)            [(None, 392)]        0                                            \n",
      "__________________________________________________________________________________________________\n",
      "input_8 (InputLayer)            [(None, 392)]        0                                            \n",
      "__________________________________________________________________________________________________\n",
      "concatenate_3 (Concatenate)     (None, 784)          0           input_7[0][0]                    \n",
      "                                                                 input_8[0][0]                    \n",
      "__________________________________________________________________________________________________\n",
      "concatenate_4 (Concatenate)     (None, 784)          0           input_7[0][0]                    \n",
      "                                                                 input_8[0][0]                    \n",
      "__________________________________________________________________________________________________\n",
      "dense_14 (Dense)                (None, 128)          100480      concatenate_3[0][0]              \n",
      "__________________________________________________________________________________________________\n",
      "dense_15 (Dense)                (None, 128)          100480      concatenate_4[0][0]              \n",
      "__________________________________________________________________________________________________\n",
      "dropout_7 (Dropout)             (None, 128)          0           dense_14[0][0]                   \n",
      "__________________________________________________________________________________________________\n",
      "dropout_8 (Dropout)             (None, 128)          0           dense_15[0][0]                   \n",
      "__________________________________________________________________________________________________\n",
      "prediction1 (Dense)             (None, 10)           1290        dropout_7[0][0]                  \n",
      "__________________________________________________________________________________________________\n",
      "prediction2 (Dense)             (None, 10)           1290        dropout_8[0][0]                  \n",
      "==================================================================================================\n",
      "Total params: 203,540\n",
      "Trainable params: 203,540\n",
      "Non-trainable params: 0\n",
      "__________________________________________________________________________________________________\n"
     ]
    },
    {
     "data": {
      "text/plain": [
       "None"
      ]
     },
     "metadata": {},
     "output_type": "display_data"
    },
    {
     "name": "stdout",
     "output_type": "stream",
     "text": [
      "Epoch 1/5\n",
      "1688/1688 [==============================] - 2s 1ms/step - loss: 0.3114 - prediction1_loss: 0.3126 - prediction2_loss: 0.3103 - prediction1_accuracy: 0.9096 - prediction2_accuracy: 0.9100 - val_loss: 0.1248 - val_prediction1_loss: 0.1257 - val_prediction2_loss: 0.1239 - val_prediction1_accuracy: 0.9652 - val_prediction2_accuracy: 0.9643\n",
      "Epoch 2/5\n",
      "1688/1688 [==============================] - 2s 1ms/step - loss: 0.1493 - prediction1_loss: 0.1501 - prediction2_loss: 0.1485 - prediction1_accuracy: 0.9555 - prediction2_accuracy: 0.9565 - val_loss: 0.0983 - val_prediction1_loss: 0.0995 - val_prediction2_loss: 0.0971 - val_prediction1_accuracy: 0.9702 - val_prediction2_accuracy: 0.9720\n",
      "Epoch 3/5\n",
      "1688/1688 [==============================] - 2s 1ms/step - loss: 0.1105 - prediction1_loss: 0.1117 - prediction2_loss: 0.1092 - prediction1_accuracy: 0.9660 - prediction2_accuracy: 0.9669 - val_loss: 0.0806 - val_prediction1_loss: 0.0811 - val_prediction2_loss: 0.0801 - val_prediction1_accuracy: 0.9783 - val_prediction2_accuracy: 0.9770\n",
      "Epoch 4/5\n",
      "1688/1688 [==============================] - 2s 1ms/step - loss: 0.0901 - prediction1_loss: 0.0916 - prediction2_loss: 0.0886 - prediction1_accuracy: 0.9711 - prediction2_accuracy: 0.9728 - val_loss: 0.0750 - val_prediction1_loss: 0.0753 - val_prediction2_loss: 0.0747 - val_prediction1_accuracy: 0.9793 - val_prediction2_accuracy: 0.9790\n",
      "Epoch 5/5\n",
      "1688/1688 [==============================] - 2s 1ms/step - loss: 0.0773 - prediction1_loss: 0.0774 - prediction2_loss: 0.0772 - prediction1_accuracy: 0.9754 - prediction2_accuracy: 0.9752 - val_loss: 0.0715 - val_prediction1_loss: 0.0748 - val_prediction2_loss: 0.0681 - val_prediction1_accuracy: 0.9800 - val_prediction2_accuracy: 0.9815\n",
      "313/313 [==============================] - 0s 709us/step - loss: 0.0700 - prediction1_loss: 0.0681 - prediction2_loss: 0.0720 - prediction1_accuracy: 0.9799 - prediction2_accuracy: 0.9776\n",
      "[0.07002823799848557, 0.06806834787130356, 0.07198815792798996, 0.9799000024795532, 0.9775999784469604]\n"
     ]
    }
   ],
   "source": [
    "# 複数入力のテストの為にxを分割してみます\n",
    "x_train2_1 = x_train.reshape(60000, 784)[:,:392]\n",
    "x_train2_2 = x_train.reshape(60000, 784)[:,392:]\n",
    "x_test2_1 = x_test.reshape(10000, 784)[:,:392]\n",
    "x_test2_2 = x_test.reshape(10000, 784)[:,392:]\n",
    "\n",
    "# Functional APIでモデルを定義します\n",
    "input1 = keras.layers.Input(shape=(392,))\n",
    "input2 = keras.layers.Input(shape=(392,))\n",
    "\n",
    "# Prediction 1\n",
    "inputs1 = keras.layers.concatenate([input1, input2])\n",
    "x1 = keras.layers.Dense(128, activation='relu')(inputs1)\n",
    "x1 = keras.layers.Dropout(0.2)(x1)\n",
    "prediction1 = keras.layers.Dense(10, activation='softmax', name='prediction1')(x1)\n",
    "\n",
    "# Prediction 2\n",
    "inputs2 = keras.layers.concatenate([input1, input2])\n",
    "x2 = keras.layers.Dense(128, activation='relu')(inputs2)\n",
    "x2 = keras.layers.Dropout(0.2)(x2)\n",
    "prediction2 = keras.layers.Dense(10, activation='softmax', name='prediction2')(x2)\n",
    "\n",
    "# 入出力を定義します\n",
    "model = keras.Model(inputs=[input1, input2], outputs=[prediction1, prediction2])\n",
    "\n",
    "\n",
    "# モデルをcompileします\n",
    "model.compile(optimizer='adam',\n",
    "              loss={'prediction1': 'sparse_categorical_crossentropy', \n",
    "                    'prediction2': 'sparse_categorical_crossentropy'},\n",
    "              loss_weights={'prediction1': 0.5,\n",
    "                            'prediction2': 0.5},\n",
    "              metrics=['accuracy'])\n",
    "display(model.summary())\n",
    "\n",
    "# 学習します\n",
    "hist = model.fit([x_train2_1, x_train2_2], [y_train, y_train], \n",
    "                 validation_split=0.1, epochs=5)\n",
    "\n",
    "# テストデータの予測精度を計算します\n",
    "print(model.evaluate([x_test2_1, x_test2_2], [y_test, y_test]))"
   ]
  },
  {
   "cell_type": "code",
   "execution_count": null,
   "metadata": {},
   "outputs": [],
   "source": []
  },
  {
   "cell_type": "code",
   "execution_count": null,
   "metadata": {},
   "outputs": [],
   "source": []
  },
  {
   "cell_type": "code",
   "execution_count": 31,
   "metadata": {},
   "outputs": [
    {
     "data": {
      "text/plain": [
       "array([[10, 20, 30],\n",
       "       [40, 50, 60],\n",
       "       [70, 80, 90]])"
      ]
     },
     "execution_count": 31,
     "metadata": {},
     "output_type": "execute_result"
    }
   ],
   "source": [
    "# cf. slice\n",
    "import numpy as np\n",
    "\n",
    "data = np.array([10, 20, 30, 40, 50, 60, 70, 80, 90,])\n",
    "data2=np.array(data).reshape(3,3) #3×3の配列を作成\n",
    "data2"
   ]
  },
  {
   "cell_type": "code",
   "execution_count": 20,
   "metadata": {},
   "outputs": [
    {
     "data": {
      "text/plain": [
       "array([[10, 20, 30],\n",
       "       [40, 50, 60]])"
      ]
     },
     "execution_count": 20,
     "metadata": {},
     "output_type": "execute_result"
    }
   ],
   "source": [
    "data2[:2,] #0～1行目、すべての列"
   ]
  },
  {
   "cell_type": "code",
   "execution_count": 26,
   "metadata": {},
   "outputs": [
    {
     "data": {
      "text/plain": [
       "array([[10],\n",
       "       [40],\n",
       "       [70]])"
      ]
     },
     "execution_count": 26,
     "metadata": {},
     "output_type": "execute_result"
    }
   ],
   "source": [
    "data2[:,:1] #　全ての行、1列目以降"
   ]
  },
  {
   "cell_type": "code",
   "execution_count": 21,
   "metadata": {},
   "outputs": [
    {
     "data": {
      "text/plain": [
       "array([[20, 30],\n",
       "       [50, 60],\n",
       "       [80, 90]])"
      ]
     },
     "execution_count": 21,
     "metadata": {},
     "output_type": "execute_result"
    }
   ],
   "source": [
    "data2[:,1:] #すべての行、1列目以降"
   ]
  },
  {
   "cell_type": "code",
   "execution_count": 24,
   "metadata": {},
   "outputs": [
    {
     "data": {
      "text/plain": [
       "array([[50, 60],\n",
       "       [80, 90]])"
      ]
     },
     "execution_count": 24,
     "metadata": {},
     "output_type": "execute_result"
    }
   ],
   "source": [
    "data2[1:,1:] #1行目以降、1列目以降"
   ]
  },
  {
   "cell_type": "code",
   "execution_count": null,
   "metadata": {},
   "outputs": [],
   "source": []
  }
 ],
 "metadata": {
  "kernelspec": {
   "display_name": "Python 3",
   "language": "python",
   "name": "python3"
  },
  "language_info": {
   "codemirror_mode": {
    "name": "ipython",
    "version": 3
   },
   "file_extension": ".py",
   "mimetype": "text/x-python",
   "name": "python",
   "nbconvert_exporter": "python",
   "pygments_lexer": "ipython3",
   "version": "3.6.8"
  }
 },
 "nbformat": 4,
 "nbformat_minor": 2
}
