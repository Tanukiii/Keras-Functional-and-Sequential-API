{
 "cells": [
  {
   "cell_type": "markdown",
   "metadata": {},
   "source": [
    "# Keras Functional  and Sequencial APIの使い方"
   ]
  },
  {
   "cell_type": "markdown",
   "metadata": {},
   "source": [
    "## Preparcing Tensorflow2.x and Dataset MNIST"
   ]
  },
  {
   "cell_type": "code",
   "execution_count": 6,
   "metadata": {},
   "outputs": [
    {
     "name": "stdout",
     "output_type": "stream",
     "text": [
      "(60000, 28, 28) (10000, 28, 28)\n"
     ]
    }
   ],
   "source": [
    "import tensorflow as tf\n",
    "import keras\n",
    "\n",
    "# Mnist\n",
    "mnist = keras.datasets.mnist\n",
    "(x_train, y_train), (x_test, y_test) = mnist.load_data()\n",
    "\n",
    "# Normalization 0-255の値が入っているので、0-1に収まるよう正規化します\n",
    "x_train, x_test = x_train / 255.0, x_test / 255.0\n",
    "\n",
    "# Check the data\n",
    "print(x_train.shape, x_test.shape)"
   ]
  },
  {
   "cell_type": "code",
   "execution_count": null,
   "metadata": {},
   "outputs": [],
   "source": []
  },
  {
   "cell_type": "markdown",
   "metadata": {},
   "source": [
    "# Sequentialの場合の書き方"
   ]
  },
  {
   "cell_type": "markdown",
   "metadata": {},
   "source": [
    "### ・keras.models.Sequential()にlistで与える\n",
    "\n",
    "### ・model.add()で1層ずつ足してくかしてモデルをつくる\n",
    "\n",
    "### 最期に学習条件を決めてcompileすれば完成です。\n"
   ]
  },
  {
   "cell_type": "code",
   "execution_count": 9,
   "metadata": {
    "scrolled": true
   },
   "outputs": [
    {
     "name": "stdout",
     "output_type": "stream",
     "text": [
      "Model: \"sequential_2\"\n",
      "_________________________________________________________________\n",
      "Layer (type)                 Output Shape              Param #   \n",
      "=================================================================\n",
      "flatten_1 (Flatten)          (None, 784)               0         \n",
      "_________________________________________________________________\n",
      "dense_2 (Dense)              (None, 128)               100480    \n",
      "_________________________________________________________________\n",
      "dropout_1 (Dropout)          (None, 128)               0         \n",
      "_________________________________________________________________\n",
      "dense_3 (Dense)              (None, 10)                1290      \n",
      "=================================================================\n",
      "Total params: 101,770\n",
      "Trainable params: 101,770\n",
      "Non-trainable params: 0\n",
      "_________________________________________________________________\n"
     ]
    },
    {
     "data": {
      "text/plain": [
       "None"
      ]
     },
     "metadata": {},
     "output_type": "display_data"
    },
    {
     "name": "stdout",
     "output_type": "stream",
     "text": [
      "Epoch 1/5\n",
      "1688/1688 [==============================] - 2s 957us/step - loss: 0.3198 - accuracy: 0.9070 - val_loss: 0.1254 - val_accuracy: 0.9678\n",
      "Epoch 2/5\n",
      "1688/1688 [==============================] - 1s 818us/step - loss: 0.1527 - accuracy: 0.9547 - val_loss: 0.0944 - val_accuracy: 0.9730\n",
      "Epoch 3/5\n",
      "1688/1688 [==============================] - 1s 817us/step - loss: 0.1131 - accuracy: 0.9656 - val_loss: 0.0790 - val_accuracy: 0.9767\n",
      "Epoch 4/5\n",
      "1688/1688 [==============================] - 1s 840us/step - loss: 0.0914 - accuracy: 0.9724 - val_loss: 0.0713 - val_accuracy: 0.9792\n",
      "Epoch 5/5\n",
      "1688/1688 [==============================] - 1s 827us/step - loss: 0.0781 - accuracy: 0.9750 - val_loss: 0.0673 - val_accuracy: 0.9813\n",
      "313/313 [==============================] - 0s 613us/step - loss: 0.0716 - accuracy: 0.9782\n",
      "[0.07159699499607086, 0.9782000184059143]\n"
     ]
    }
   ],
   "source": [
    "# Sequentialモデルを定義します\n",
    "\n",
    "model = keras.models.Sequential()\n",
    "\n",
    "model.add(tf.keras.layers.Flatten(input_shape =(28, 28)))\n",
    "model.add(tf.keras.layers.Dense(128, activation ='relu'))\n",
    "model.add(tf.keras.layers.Dropout(0.2))\n",
    "model.add(tf.keras.layers.Dense(10, activation ='softmax'))\n",
    "\n",
    "# モデルをcompileします\n",
    "model.compile(optimizer='adam',\n",
    "              loss='sparse_categorical_crossentropy',\n",
    "              metrics=['accuracy'])\n",
    "display(model.summary())\n",
    "\n",
    "# 学習します\n",
    "hist = model.fit(x_train, y_train, validation_split=0.1, epochs=5)\n",
    "\n",
    "# テストデータの予測精度を計算します\n",
    "print(model.evaluate(x_test, y_test))"
   ]
  },
  {
   "cell_type": "code",
   "execution_count": null,
   "metadata": {},
   "outputs": [],
   "source": [
    "\n"
   ]
  }
 ],
 "metadata": {
  "kernelspec": {
   "display_name": "Python 3",
   "language": "python",
   "name": "python3"
  },
  "language_info": {
   "codemirror_mode": {
    "name": "ipython",
    "version": 3
   },
   "file_extension": ".py",
   "mimetype": "text/x-python",
   "name": "python",
   "nbconvert_exporter": "python",
   "pygments_lexer": "ipython3",
   "version": "3.6.8"
  }
 },
 "nbformat": 4,
 "nbformat_minor": 2
}
