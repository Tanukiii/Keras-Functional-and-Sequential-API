{
 "cells": [
  {
   "cell_type": "markdown",
   "metadata": {},
   "source": [
    "# Keras Functional  and Sequential APIの使い方"
   ]
  },
  {
   "cell_type": "markdown",
   "metadata": {},
   "source": [
    "## Preparcing Tensorflow2.x and Dataset MNIST"
   ]
  },
  {
   "cell_type": "code",
   "execution_count": 1,
   "metadata": {},
   "outputs": [
    {
     "name": "stdout",
     "output_type": "stream",
     "text": [
      "(60000, 28, 28) (10000, 28, 28)\n"
     ]
    }
   ],
   "source": [
    "import tensorflow as tf\n",
    "import keras\n",
    "\n",
    "# Mnist\n",
    "mnist = keras.datasets.mnist\n",
    "(x_train, y_train), (x_test, y_test) = mnist.load_data()\n",
    "\n",
    "# Normalization 0-255の値が入っているので、0-1に収まるよう正規化します\n",
    "x_train, x_test = x_train / 255.0, x_test / 255.0\n",
    "\n",
    "# Check the data\n",
    "# Now, each row has one data\n",
    "print(x_train.shape, x_test.shape)"
   ]
  },
  {
   "cell_type": "markdown",
   "metadata": {},
   "source": [
    "# Sequential の場合の書き方"
   ]
  },
  {
   "cell_type": "markdown",
   "metadata": {},
   "source": [
    "### ・keras.models.Sequential()にlistで与える\n",
    "\n",
    "### ・model.add()で1層ずつ足してくかしてモデルをつくる\n",
    "\n",
    "### 最期に学習条件を決めてcompileすれば完成です。\n"
   ]
  },
  {
   "cell_type": "code",
   "execution_count": 2,
   "metadata": {
    "scrolled": true
   },
   "outputs": [
    {
     "name": "stdout",
     "output_type": "stream",
     "text": [
      "Model: \"sequential\"\n",
      "_________________________________________________________________\n",
      "Layer (type)                 Output Shape              Param #   \n",
      "=================================================================\n",
      "flatten (Flatten)            (None, 784)               0         \n",
      "_________________________________________________________________\n",
      "dense (Dense)                (None, 128)               100480    \n",
      "_________________________________________________________________\n",
      "dropout (Dropout)            (None, 128)               0         \n",
      "_________________________________________________________________\n",
      "dense_1 (Dense)              (None, 10)                1290      \n",
      "=================================================================\n",
      "Total params: 101,770\n",
      "Trainable params: 101,770\n",
      "Non-trainable params: 0\n",
      "_________________________________________________________________\n"
     ]
    },
    {
     "data": {
      "text/plain": [
       "None"
      ]
     },
     "metadata": {},
     "output_type": "display_data"
    },
    {
     "name": "stdout",
     "output_type": "stream",
     "text": [
      "Epoch 1/5\n",
      "1688/1688 [==============================] - 2s 954us/step - loss: 0.3133 - accuracy: 0.9083 - val_loss: 0.1227 - val_accuracy: 0.9668\n",
      "Epoch 2/5\n",
      "1688/1688 [==============================] - 1s 861us/step - loss: 0.1526 - accuracy: 0.9543 - val_loss: 0.0918 - val_accuracy: 0.9740\n",
      "Epoch 3/5\n",
      "1688/1688 [==============================] - 1s 852us/step - loss: 0.1172 - accuracy: 0.9649 - val_loss: 0.0790 - val_accuracy: 0.9770\n",
      "Epoch 4/5\n",
      "1688/1688 [==============================] - 1s 821us/step - loss: 0.0953 - accuracy: 0.9708 - val_loss: 0.0777 - val_accuracy: 0.9783\n",
      "Epoch 5/5\n",
      "1688/1688 [==============================] - 1s 846us/step - loss: 0.0800 - accuracy: 0.9748 - val_loss: 0.0687 - val_accuracy: 0.9800\n",
      "313/313 [==============================] - 0s 497us/step - loss: 0.0789 - accuracy: 0.9766\n",
      "[0.07888970524072647, 0.9765999913215637]\n"
     ]
    }
   ],
   "source": [
    "# Sequentialモデルを定義します\n",
    "\n",
    "model = keras.models.Sequential()\n",
    "\n",
    "model.add(tf.keras.layers.Flatten(input_shape =(28, 28)))\n",
    "model.add(tf.keras.layers.Dense(128, activation ='relu'))\n",
    "model.add(tf.keras.layers.Dropout(0.2))\n",
    "model.add(tf.keras.layers.Dense(10, activation ='softmax'))\n",
    "\n",
    "# モデルをcompileします\n",
    "model.compile(optimizer='adam',\n",
    "              loss='sparse_categorical_crossentropy',\n",
    "              metrics=['accuracy'])\n",
    "display(model.summary())\n",
    "\n",
    "# 学習します\n",
    "hist = model.fit(x_train, y_train, validation_split=0.1, epochs=5)\n",
    "\n",
    "# テストデータの予測精度を計算します\n",
    "print(model.evaluate(x_test, y_test))"
   ]
  },
  {
   "cell_type": "markdown",
   "metadata": {},
   "source": [
    "# Functional の場合の書き方"
   ]
  },
  {
   "cell_type": "markdown",
   "metadata": {},
   "source": [
    "## ①入力が１つの場合"
   ]
  },
  {
   "cell_type": "markdown",
   "metadata": {},
   "source": [
    "### 上記のSequentialの場合とまったく同じモデルをfunctional APIで書くと次のようになります。"
   ]
  },
  {
   "cell_type": "markdown",
   "metadata": {},
   "source": [
    "Sequentialだと入力数と出力数がどちらも１つと決まってるのでSequentialでネットワーク構造を定義したら完成でしたが、functional APIだと入力と出力をどちらも複数設定できますので、ネットワーク構造をkeras.layersで定義する部分の２つを書いておいて、入力と出力がいくつあるのかkeras.Model()で定義して完成となります。"
   ]
  },
  {
   "cell_type": "code",
   "execution_count": 3,
   "metadata": {},
   "outputs": [
    {
     "name": "stdout",
     "output_type": "stream",
     "text": [
      "Model: \"functional_1\"\n",
      "_________________________________________________________________\n",
      "Layer (type)                 Output Shape              Param #   \n",
      "=================================================================\n",
      "input_1 (InputLayer)         [(None, 28, 28)]          0         \n",
      "_________________________________________________________________\n",
      "flatten_1 (Flatten)          (None, 784)               0         \n",
      "_________________________________________________________________\n",
      "dense_2 (Dense)              (None, 128)               100480    \n",
      "_________________________________________________________________\n",
      "dropout_1 (Dropout)          (None, 128)               0         \n",
      "_________________________________________________________________\n",
      "dense_3 (Dense)              (None, 10)                1290      \n",
      "=================================================================\n",
      "Total params: 101,770\n",
      "Trainable params: 101,770\n",
      "Non-trainable params: 0\n",
      "_________________________________________________________________\n"
     ]
    },
    {
     "data": {
      "text/plain": [
       "None"
      ]
     },
     "metadata": {},
     "output_type": "display_data"
    },
    {
     "name": "stdout",
     "output_type": "stream",
     "text": [
      "Epoch 1/5\n",
      "1688/1688 [==============================] - 2s 1ms/step - loss: 0.3099 - accuracy: 0.9084 - val_loss: 0.1238 - val_accuracy: 0.9662\n",
      "Epoch 2/5\n",
      "1688/1688 [==============================] - 1s 805us/step - loss: 0.1490 - accuracy: 0.9558 - val_loss: 0.0909 - val_accuracy: 0.9732\n",
      "Epoch 3/5\n",
      "1688/1688 [==============================] - 1s 864us/step - loss: 0.1122 - accuracy: 0.9659 - val_loss: 0.0758 - val_accuracy: 0.9768\n",
      "Epoch 4/5\n",
      "1688/1688 [==============================] - 1s 852us/step - loss: 0.0913 - accuracy: 0.9726 - val_loss: 0.0745 - val_accuracy: 0.9795\n",
      "Epoch 5/5\n",
      "1688/1688 [==============================] - 1s 803us/step - loss: 0.0773 - accuracy: 0.9761 - val_loss: 0.0753 - val_accuracy: 0.9788\n",
      "313/313 [==============================] - 0s 529us/step - loss: 0.0772 - accuracy: 0.9772\n",
      "[0.0772307813167572, 0.9771999716758728]\n"
     ]
    }
   ],
   "source": [
    "# モデル構造を定義します\n",
    "inputs = tf.keras.layers.Input(shape=(28, 28))\n",
    "x = tf.keras.layers.Flatten()(inputs)\n",
    "x = tf.keras.layers.Dense(128, activation='relu')(x)\n",
    "x = tf.keras.layers.Dropout(0.2)(x)\n",
    "predictions = tf.keras.layers.Dense(10, activation='softmax')(x)\n",
    "\n",
    "# 入出力を定義します\n",
    "model = keras.Model(inputs=inputs, outputs=predictions)\n",
    "\n",
    "# モデルをcompileします\n",
    "model.compile(optimizer='adam',\n",
    "              loss='sparse_categorical_crossentropy',\n",
    "              metrics=['accuracy'])\n",
    "display(model.summary())\n",
    "\n",
    "# 学習します\n",
    "hist = model.fit(x_train, y_train, validation_split=0.1, epochs=5)\n",
    "\n",
    "# テストデータの予測精度を計算します\n",
    "print(model.evaluate(x_test, y_test))"
   ]
  },
  {
   "cell_type": "markdown",
   "metadata": {},
   "source": [
    "(Note)\n",
    "\n",
    "学習データとテストデータのようにkerasの外からkerasモデルに渡すデータは必ず最初にkeras.layers.Input()で受け取り、そこから加える層の右にその層への入力を（）付きで与えるように書いて、1層ずつ増やしていくという書き方になります。\n",
    "\n",
    "下の例だとpredictionsに入力から出力までのInput => Flatten => Dense(128, relu) => Dropout => Dense(10, softmax)までのネットワークが全部入ってますので、Sequentialで書いたmodelと同じ内容になります"
   ]
  },
  {
   "cell_type": "markdown",
   "metadata": {},
   "source": [
    "## ② 入力が2つある場合(出力は１つ)"
   ]
  },
  {
   "cell_type": "markdown",
   "metadata": {},
   "source": [
    "入力が複数ある場合はinputが複数あるネットワークを書いて、keras.Model()にlistでinputを与えるようにします。下の例はmnistデータを2つに分けてkeras model内で結合してから同じネットワークに通すようにしたものです。"
   ]
  },
  {
   "cell_type": "code",
   "execution_count": 4,
   "metadata": {},
   "outputs": [
    {
     "name": "stdout",
     "output_type": "stream",
     "text": [
      "Model: \"functional_3\"\n",
      "__________________________________________________________________________________________________\n",
      "Layer (type)                    Output Shape         Param #     Connected to                     \n",
      "==================================================================================================\n",
      "input_2 (InputLayer)            [(None, 392)]        0                                            \n",
      "__________________________________________________________________________________________________\n",
      "input_3 (InputLayer)            [(None, 392)]        0                                            \n",
      "__________________________________________________________________________________________________\n",
      "concatenate (Concatenate)       (None, 784)          0           input_2[0][0]                    \n",
      "                                                                 input_3[0][0]                    \n",
      "__________________________________________________________________________________________________\n",
      "dense_4 (Dense)                 (None, 128)          100480      concatenate[0][0]                \n",
      "__________________________________________________________________________________________________\n",
      "dropout_2 (Dropout)             (None, 128)          0           dense_4[0][0]                    \n",
      "__________________________________________________________________________________________________\n",
      "dense_5 (Dense)                 (None, 10)           1290        dropout_2[0][0]                  \n",
      "==================================================================================================\n",
      "Total params: 101,770\n",
      "Trainable params: 101,770\n",
      "Non-trainable params: 0\n",
      "__________________________________________________________________________________________________\n"
     ]
    },
    {
     "data": {
      "text/plain": [
       "None"
      ]
     },
     "metadata": {},
     "output_type": "display_data"
    },
    {
     "name": "stdout",
     "output_type": "stream",
     "text": [
      "Epoch 1/5\n",
      "1688/1688 [==============================] - 2s 1ms/step - loss: 0.3099 - accuracy: 0.9092 - val_loss: 0.1282 - val_accuracy: 0.9645\n",
      "Epoch 2/5\n",
      "1688/1688 [==============================] - 2s 947us/step - loss: 0.1481 - accuracy: 0.9563 - val_loss: 0.0977 - val_accuracy: 0.9710\n",
      "Epoch 3/5\n",
      "1688/1688 [==============================] - 2s 936us/step - loss: 0.1108 - accuracy: 0.9660 - val_loss: 0.0822 - val_accuracy: 0.9767\n",
      "Epoch 4/5\n",
      "1688/1688 [==============================] - 2s 895us/step - loss: 0.0902 - accuracy: 0.9723 - val_loss: 0.0801 - val_accuracy: 0.9763\n",
      "Epoch 5/5\n",
      "1688/1688 [==============================] - 1s 853us/step - loss: 0.0762 - accuracy: 0.9761 - val_loss: 0.0706 - val_accuracy: 0.9788\n",
      "313/313 [==============================] - 0s 589us/step - loss: 0.0720 - accuracy: 0.9780\n",
      "[0.07204233855009079, 0.9779999852180481]\n"
     ]
    }
   ],
   "source": [
    "# 複数入力のテストの為にxを分割してみます\n",
    "# 全ての行、３９２\n",
    "x_train2_1 = x_train.reshape(60000, 784)[:,:392]  # (60000, 392) \n",
    "x_train2_2 = x_train.reshape(60000, 784)[:,392:]  # (60000, 392)\n",
    "\n",
    "x_test2_1 = x_test.reshape(10000, 784)[:,:392] # (10000, 392)\n",
    "x_test2_2 = x_test.reshape(10000, 784)[:,392:] # (10000, 392)\n",
    "\n",
    "# Functional APIでモデルを定義します\n",
    "input1 = tf.keras.layers.Input(shape=(392,))\n",
    "input2 = tf.keras.layers.Input(shape=(392,))\n",
    "inputs = tf.keras.layers.concatenate([input1, input2])\n",
    "\n",
    "x = tf.keras.layers.Dense(128, activation='relu')(inputs)\n",
    "x = tf.keras.layers.Dropout(0.2)(x)\n",
    "predictions = keras.layers.Dense(10, activation='softmax')(x)\n",
    "\n",
    "# 入出力を定義します\n",
    "model = tf.keras.Model(inputs=[input1, input2], outputs=predictions)\n",
    "\n",
    "# モデルをcompileします\n",
    "model.compile(optimizer='adam',\n",
    "              loss='sparse_categorical_crossentropy',\n",
    "              metrics=['accuracy'])\n",
    "display(model.summary())\n",
    "\n",
    "# 学習します\n",
    "hist = model.fit([x_train2_1, x_train2_2], y_train, validation_split=0.1, epochs=5)\n",
    "\n",
    "# テストデータの予測精度を計算します\n",
    "print(model.evaluate([x_test2_1, x_test2_2], y_test))"
   ]
  },
  {
   "cell_type": "markdown",
   "metadata": {},
   "source": [
    "## ③ 入力と出力が2つある場合（損失関数は１つ）"
   ]
  },
  {
   "cell_type": "markdown",
   "metadata": {},
   "source": [
    "分岐を加えて出力が2つあるmodelに変えてみました。x1とx2の2つの経路に分岐していて、prediction1とprediction2がそれぞれの出力までのネットワーク情報をもっています。出力段が2つになったのでkeras.Model()に与える出力段も２つになります。"
   ]
  },
  {
   "cell_type": "code",
   "execution_count": 5,
   "metadata": {},
   "outputs": [
    {
     "name": "stdout",
     "output_type": "stream",
     "text": [
      "Model: \"functional_5\"\n",
      "__________________________________________________________________________________________________\n",
      "Layer (type)                    Output Shape         Param #     Connected to                     \n",
      "==================================================================================================\n",
      "input_4 (InputLayer)            [(None, 392)]        0                                            \n",
      "__________________________________________________________________________________________________\n",
      "input_5 (InputLayer)            [(None, 392)]        0                                            \n",
      "__________________________________________________________________________________________________\n",
      "concatenate_1 (Concatenate)     (None, 784)          0           input_4[0][0]                    \n",
      "                                                                 input_5[0][0]                    \n",
      "__________________________________________________________________________________________________\n",
      "concatenate_2 (Concatenate)     (None, 784)          0           input_4[0][0]                    \n",
      "                                                                 input_5[0][0]                    \n",
      "__________________________________________________________________________________________________\n",
      "dense_6 (Dense)                 (None, 128)          100480      concatenate_1[0][0]              \n",
      "__________________________________________________________________________________________________\n",
      "dense_8 (Dense)                 (None, 128)          100480      concatenate_2[0][0]              \n",
      "__________________________________________________________________________________________________\n",
      "dropout_3 (Dropout)             (None, 128)          0           dense_6[0][0]                    \n",
      "__________________________________________________________________________________________________\n",
      "dropout_4 (Dropout)             (None, 128)          0           dense_8[0][0]                    \n",
      "__________________________________________________________________________________________________\n",
      "dense_7 (Dense)                 (None, 10)           1290        dropout_3[0][0]                  \n",
      "__________________________________________________________________________________________________\n",
      "dense_9 (Dense)                 (None, 10)           1290        dropout_4[0][0]                  \n",
      "==================================================================================================\n",
      "Total params: 203,540\n",
      "Trainable params: 203,540\n",
      "Non-trainable params: 0\n",
      "__________________________________________________________________________________________________\n"
     ]
    },
    {
     "data": {
      "text/plain": [
       "None"
      ]
     },
     "metadata": {},
     "output_type": "display_data"
    },
    {
     "name": "stdout",
     "output_type": "stream",
     "text": [
      "Epoch 1/5\n",
      "1688/1688 [==============================] - 2s 1ms/step - loss: 0.6220 - dense_7_loss: 0.3105 - dense_9_loss: 0.3115 - dense_7_accuracy: 0.9103 - dense_9_accuracy: 0.9091 - val_loss: 0.2464 - val_dense_7_loss: 0.1255 - val_dense_9_loss: 0.1209 - val_dense_7_accuracy: 0.9663 - val_dense_9_accuracy: 0.9685\n",
      "Epoch 2/5\n",
      "1688/1688 [==============================] - 2s 1ms/step - loss: 0.2973 - dense_7_loss: 0.1472 - dense_9_loss: 0.1501 - dense_7_accuracy: 0.9560 - dense_9_accuracy: 0.9553 - val_loss: 0.1811 - val_dense_7_loss: 0.0903 - val_dense_9_loss: 0.0908 - val_dense_7_accuracy: 0.9743 - val_dense_9_accuracy: 0.9750\n",
      "Epoch 3/5\n",
      "1688/1688 [==============================] - 2s 1ms/step - loss: 0.2228 - dense_7_loss: 0.1111 - dense_9_loss: 0.1117 - dense_7_accuracy: 0.9663 - dense_9_accuracy: 0.9663 - val_loss: 0.1611 - val_dense_7_loss: 0.0830 - val_dense_9_loss: 0.0781 - val_dense_7_accuracy: 0.9752 - val_dense_9_accuracy: 0.9783\n",
      "Epoch 4/5\n",
      "1688/1688 [==============================] - 2s 1ms/step - loss: 0.1813 - dense_7_loss: 0.0919 - dense_9_loss: 0.0894 - dense_7_accuracy: 0.9712 - dense_9_accuracy: 0.9728 - val_loss: 0.1507 - val_dense_7_loss: 0.0742 - val_dense_9_loss: 0.0765 - val_dense_7_accuracy: 0.9773 - val_dense_9_accuracy: 0.9777\n",
      "Epoch 5/5\n",
      "1688/1688 [==============================] - 2s 1ms/step - loss: 0.1582 - dense_7_loss: 0.0791 - dense_9_loss: 0.0790 - dense_7_accuracy: 0.9755 - dense_9_accuracy: 0.9750 - val_loss: 0.1468 - val_dense_7_loss: 0.0748 - val_dense_9_loss: 0.0720 - val_dense_7_accuracy: 0.9792 - val_dense_9_accuracy: 0.9802\n",
      "313/313 [==============================] - 0s 660us/step - loss: 0.1531 - dense_7_loss: 0.0785 - dense_9_loss: 0.0747 - dense_7_accuracy: 0.9766 - dense_9_accuracy: 0.9772\n",
      "[0.15314234793186188, 0.07845591753721237, 0.07468656450510025, 0.9765999913215637, 0.9771999716758728]\n"
     ]
    }
   ],
   "source": [
    "# 複数入力のテストの為にxを分割してみます\n",
    "x_train2_1 = x_train.reshape(60000, 784)[:,:392]\n",
    "x_train2_2 = x_train.reshape(60000, 784)[:,392:]\n",
    "x_test2_1 = x_test.reshape(10000, 784)[:,:392]\n",
    "x_test2_2 = x_test.reshape(10000, 784)[:,392:]\n",
    "\n",
    "# Functional APIでモデルを定義します\n",
    "input1 = keras.layers.Input(shape=(392,))\n",
    "input2 = keras.layers.Input(shape=(392,))\n",
    "\n",
    "# Prediction 1\n",
    "inputs1 = keras.layers.concatenate([input1, input2])\n",
    "x1 = keras.layers.Dense(128, activation='relu')(inputs1)\n",
    "x1 = keras.layers.Dropout(0.2)(x1)\n",
    "prediction1 = keras.layers.Dense(10, activation='softmax')(x1)\n",
    "\n",
    "# Prediction 2\n",
    "inputs2 = keras.layers.concatenate([input1, input2])\n",
    "x2 = keras.layers.Dense(128, activation='relu')(inputs2)\n",
    "x2 = keras.layers.Dropout(0.2)(x2)\n",
    "prediction2 = keras.layers.Dense(10, activation='softmax')(x2)\n",
    "\n",
    "# 入出力を定義します\n",
    "model = keras.Model(inputs=[input1, input2], outputs=[prediction1, prediction2])\n",
    "\n",
    "# モデルをcompileします\n",
    "model.compile(optimizer='adam',\n",
    "              loss='sparse_categorical_crossentropy',\n",
    "              metrics=['accuracy'])\n",
    "display(model.summary())\n",
    "\n",
    "# 学習します\n",
    "hist = model.fit([x_train2_1, x_train2_2], [y_train, y_train], \n",
    "                 validation_split=0.1, epochs=5)\n",
    "\n",
    "# テストデータの予測精度を計算します\n",
    "print(model.evaluate([x_test2_1, x_test2_2], [y_test, y_test]))"
   ]
  },
  {
   "cell_type": "markdown",
   "metadata": {},
   "source": [
    "# ④ 入力、出力、損失関数が2つある場合"
   ]
  },
  {
   "cell_type": "markdown",
   "metadata": {},
   "source": [
    "せっかく出力を分けたので損失関数も別々に入れてみます。\n",
    "\n",
    "modelを作るときにname=''で名付けておいて、compile()するときにlossを辞書型で渡せば出力ごとに異なる損失関数を使うことができます。下の例だと同じ損失関数を使ってますが、ぜんぜん違う損失関数を指定しても構いません。\n",
    "\n",
    "学習はトータルの損失関数を最小化するように進めますがデフォルトでは単純に合計するようです。加算比率をloss_weightsに辞書型で渡すことで指定することもできるので、以下では0.5ずつで加算するようにしています。"
   ]
  },
  {
   "cell_type": "code",
   "execution_count": 6,
   "metadata": {
    "scrolled": false
   },
   "outputs": [
    {
     "name": "stdout",
     "output_type": "stream",
     "text": [
      "Model: \"functional_7\"\n",
      "__________________________________________________________________________________________________\n",
      "Layer (type)                    Output Shape         Param #     Connected to                     \n",
      "==================================================================================================\n",
      "input_6 (InputLayer)            [(None, 392)]        0                                            \n",
      "__________________________________________________________________________________________________\n",
      "input_7 (InputLayer)            [(None, 392)]        0                                            \n",
      "__________________________________________________________________________________________________\n",
      "concatenate_3 (Concatenate)     (None, 784)          0           input_6[0][0]                    \n",
      "                                                                 input_7[0][0]                    \n",
      "__________________________________________________________________________________________________\n",
      "concatenate_4 (Concatenate)     (None, 784)          0           input_6[0][0]                    \n",
      "                                                                 input_7[0][0]                    \n",
      "__________________________________________________________________________________________________\n",
      "dense_10 (Dense)                (None, 128)          100480      concatenate_3[0][0]              \n",
      "__________________________________________________________________________________________________\n",
      "dense_11 (Dense)                (None, 128)          100480      concatenate_4[0][0]              \n",
      "__________________________________________________________________________________________________\n",
      "dropout_5 (Dropout)             (None, 128)          0           dense_10[0][0]                   \n",
      "__________________________________________________________________________________________________\n",
      "dropout_6 (Dropout)             (None, 128)          0           dense_11[0][0]                   \n",
      "__________________________________________________________________________________________________\n",
      "prediction1 (Dense)             (None, 10)           1290        dropout_5[0][0]                  \n",
      "__________________________________________________________________________________________________\n",
      "prediction2 (Dense)             (None, 10)           1290        dropout_6[0][0]                  \n",
      "==================================================================================================\n",
      "Total params: 203,540\n",
      "Trainable params: 203,540\n",
      "Non-trainable params: 0\n",
      "__________________________________________________________________________________________________\n"
     ]
    },
    {
     "data": {
      "text/plain": [
       "None"
      ]
     },
     "metadata": {},
     "output_type": "display_data"
    },
    {
     "name": "stdout",
     "output_type": "stream",
     "text": [
      "Epoch 1/5\n",
      "1688/1688 [==============================] - 2s 1ms/step - loss: 0.3168 - prediction1_loss: 0.3150 - prediction2_loss: 0.3186 - prediction1_accuracy: 0.9086 - prediction2_accuracy: 0.9083 - val_loss: 0.1183 - val_prediction1_loss: 0.1189 - val_prediction2_loss: 0.1177 - val_prediction1_accuracy: 0.9698 - val_prediction2_accuracy: 0.9663\n",
      "Epoch 2/5\n",
      "1688/1688 [==============================] - 2s 1ms/step - loss: 0.1531 - prediction1_loss: 0.1515 - prediction2_loss: 0.1547 - prediction1_accuracy: 0.9546 - prediction2_accuracy: 0.9547 - val_loss: 0.0952 - val_prediction1_loss: 0.0962 - val_prediction2_loss: 0.0942 - val_prediction1_accuracy: 0.9705 - val_prediction2_accuracy: 0.9717\n",
      "Epoch 3/5\n",
      "1688/1688 [==============================] - 2s 1ms/step - loss: 0.1156 - prediction1_loss: 0.1149 - prediction2_loss: 0.1162 - prediction1_accuracy: 0.9660 - prediction2_accuracy: 0.9649 - val_loss: 0.0798 - val_prediction1_loss: 0.0817 - val_prediction2_loss: 0.0779 - val_prediction1_accuracy: 0.9755 - val_prediction2_accuracy: 0.9767\n",
      "Epoch 4/5\n",
      "1688/1688 [==============================] - 2s 1ms/step - loss: 0.0934 - prediction1_loss: 0.0912 - prediction2_loss: 0.0956 - prediction1_accuracy: 0.9721 - prediction2_accuracy: 0.9708 - val_loss: 0.0767 - val_prediction1_loss: 0.0779 - val_prediction2_loss: 0.0756 - val_prediction1_accuracy: 0.9772 - val_prediction2_accuracy: 0.9798\n",
      "Epoch 5/5\n",
      "1688/1688 [==============================] - 2s 1ms/step - loss: 0.0795 - prediction1_loss: 0.0798 - prediction2_loss: 0.0791 - prediction1_accuracy: 0.9748 - prediction2_accuracy: 0.9757 - val_loss: 0.0719 - val_prediction1_loss: 0.0726 - val_prediction2_loss: 0.0712 - val_prediction1_accuracy: 0.9788 - val_prediction2_accuracy: 0.9793\n",
      "313/313 [==============================] - 0s 669us/step - loss: 0.0781 - prediction1_loss: 0.0781 - prediction2_loss: 0.0780 - prediction1_accuracy: 0.9767 - prediction2_accuracy: 0.9768\n",
      "[0.0780707448720932, 0.07813680171966553, 0.07800459861755371, 0.9767000079154968, 0.9768000245094299]\n"
     ]
    }
   ],
   "source": [
    "# 複数入力のテストの為にxを分割してみます\n",
    "x_train2_1 = x_train.reshape(60000, 784)[:,:392]\n",
    "x_train2_2 = x_train.reshape(60000, 784)[:,392:]\n",
    "x_test2_1 = x_test.reshape(10000, 784)[:,:392]\n",
    "x_test2_2 = x_test.reshape(10000, 784)[:,392:]\n",
    "\n",
    "# Functional APIでモデルを定義します\n",
    "input1 = keras.layers.Input(shape=(392,))\n",
    "input2 = keras.layers.Input(shape=(392,))\n",
    "\n",
    "# Prediction 1\n",
    "inputs1 = keras.layers.concatenate([input1, input2])\n",
    "x1 = keras.layers.Dense(128, activation='relu')(inputs1)\n",
    "x1 = keras.layers.Dropout(0.2)(x1)\n",
    "prediction1 = keras.layers.Dense(10, activation='softmax', name='prediction1')(x1)\n",
    "\n",
    "# Prediction 2\n",
    "inputs2 = keras.layers.concatenate([input1, input2])\n",
    "x2 = keras.layers.Dense(128, activation='relu')(inputs2)\n",
    "x2 = keras.layers.Dropout(0.2)(x2)\n",
    "prediction2 = keras.layers.Dense(10, activation='softmax', name='prediction2')(x2)\n",
    "\n",
    "# 入出力を定義します\n",
    "model = keras.Model(inputs=[input1, input2], outputs=[prediction1, prediction2])\n",
    "\n",
    "\n",
    "# モデルをcompileします\n",
    "model.compile(optimizer='adam',\n",
    "              loss={'prediction1': 'sparse_categorical_crossentropy', \n",
    "                    'prediction2': 'sparse_categorical_crossentropy'},\n",
    "              loss_weights={'prediction1': 0.5,\n",
    "                            'prediction2': 0.5},\n",
    "              metrics=['accuracy'])\n",
    "display(model.summary())\n",
    "\n",
    "# 学習します\n",
    "hist = model.fit([x_train2_1, x_train2_2], [y_train, y_train], \n",
    "                 validation_split=0.1, epochs=5)\n",
    "\n",
    "# テストデータの予測精度を計算します\n",
    "print(model.evaluate([x_test2_1, x_test2_2], [y_test, y_test]))"
   ]
  },
  {
   "cell_type": "markdown",
   "metadata": {},
   "source": [
    "## ⑤ 学習済みmodelを組み込む"
   ]
  },
  {
   "cell_type": "markdown",
   "metadata": {},
   "source": [
    "学習済みmodelを部品として組み込むことも出来ます。\n",
    "\n",
    "使い方はkeras.layersの代わりに学習済みmodelを置くだけですし、組み込んだら1つのkeras modelとして使えますのでアンサンブルモデルも簡潔に書けて便利です。\n",
    "下の例では上半分で学習しで作ったmodelを下半分で部品として組み込んだmodel2を作っています。\n"
   ]
  },
  {
   "cell_type": "code",
   "execution_count": 7,
   "metadata": {},
   "outputs": [
    {
     "name": "stdout",
     "output_type": "stream",
     "text": [
      "Model: \"functional_9\"\n",
      "_________________________________________________________________\n",
      "Layer (type)                 Output Shape              Param #   \n",
      "=================================================================\n",
      "input_8 (InputLayer)         [(None, 28, 28)]          0         \n",
      "_________________________________________________________________\n",
      "flatten_2 (Flatten)          (None, 784)               0         \n",
      "_________________________________________________________________\n",
      "dense_12 (Dense)             (None, 128)               100480    \n",
      "_________________________________________________________________\n",
      "dropout_7 (Dropout)          (None, 128)               0         \n",
      "_________________________________________________________________\n",
      "dense_13 (Dense)             (None, 10)                1290      \n",
      "=================================================================\n",
      "Total params: 101,770\n",
      "Trainable params: 101,770\n",
      "Non-trainable params: 0\n",
      "_________________________________________________________________\n"
     ]
    },
    {
     "data": {
      "text/plain": [
       "None"
      ]
     },
     "metadata": {},
     "output_type": "display_data"
    },
    {
     "name": "stdout",
     "output_type": "stream",
     "text": [
      "Epoch 1/5\n",
      "1688/1688 [==============================] - 2s 892us/step - loss: 0.3103 - accuracy: 0.9107 - val_loss: 0.1289 - val_accuracy: 0.9653\n",
      "Epoch 2/5\n",
      "1688/1688 [==============================] - 1s 866us/step - loss: 0.1490 - accuracy: 0.9557 - val_loss: 0.0941 - val_accuracy: 0.9743\n",
      "Epoch 3/5\n",
      "1688/1688 [==============================] - 1s 854us/step - loss: 0.1121 - accuracy: 0.9661 - val_loss: 0.0822 - val_accuracy: 0.9773\n",
      "Epoch 4/5\n",
      "1688/1688 [==============================] - 1s 853us/step - loss: 0.0934 - accuracy: 0.9709 - val_loss: 0.0723 - val_accuracy: 0.9790\n",
      "Epoch 5/5\n",
      "1688/1688 [==============================] - 2s 891us/step - loss: 0.0771 - accuracy: 0.9759 - val_loss: 0.0702 - val_accuracy: 0.9790\n",
      "313/313 [==============================] - 0s 627us/step - loss: 0.0722 - accuracy: 0.9778\n",
      "[0.07221358269453049, 0.9778000116348267]\n"
     ]
    }
   ],
   "source": [
    "# Functional APIでモデルを定義します\n",
    "inputs = keras.layers.Input(shape=(28, 28))\n",
    "x = keras.layers.Flatten()(inputs)\n",
    "x = keras.layers.Dense(128, activation='relu')(x)\n",
    "x = keras.layers.Dropout(0.2)(x)\n",
    "predictions = keras.layers.Dense(10, activation='softmax')(x)\n",
    "\n",
    "# 入出力を定義します\n",
    "model = keras.Model(inputs=inputs, outputs=predictions)\n",
    "\n",
    "# モデルをcompileします\n",
    "model.compile(optimizer='adam',\n",
    "              loss='sparse_categorical_crossentropy',\n",
    "              metrics=['accuracy'])\n",
    "display(model.summary())\n",
    "\n",
    "# 学習します\n",
    "hist = model.fit(x_train, y_train, validation_split=0.1, epochs=5)\n",
    "\n",
    "# テストデータの予測精度を計算します\n",
    "print(model.evaluate(x_test, y_test))"
   ]
  },
  {
   "cell_type": "markdown",
   "metadata": {},
   "source": [
    "######################################################"
   ]
  },
  {
   "cell_type": "code",
   "execution_count": 8,
   "metadata": {},
   "outputs": [
    {
     "name": "stdout",
     "output_type": "stream",
     "text": [
      "Model: \"functional_11\"\n",
      "_________________________________________________________________\n",
      "Layer (type)                 Output Shape              Param #   \n",
      "=================================================================\n",
      "input_9 (InputLayer)         [(None, 28, 28)]          0         \n",
      "_________________________________________________________________\n",
      "functional_9 (Functional)    (None, 10)                101770    \n",
      "=================================================================\n",
      "Total params: 101,770\n",
      "Trainable params: 101,770\n",
      "Non-trainable params: 0\n",
      "_________________________________________________________________\n"
     ]
    },
    {
     "data": {
      "text/plain": [
       "None"
      ]
     },
     "metadata": {},
     "output_type": "display_data"
    },
    {
     "name": "stdout",
     "output_type": "stream",
     "text": [
      "313/313 [==============================] - 0s 569us/step - loss: 0.0722 - accuracy: 0.9778\n",
      "[0.07221358269453049, 0.9778000116348267]\n"
     ]
    }
   ],
   "source": [
    "# モデルを再利用するモデルを定義します\n",
    "inputs = keras.layers.Input(shape=(28, 28))\n",
    "predictions = model(inputs)\n",
    "\n",
    "# モデルをcompileします\n",
    "model2 = keras.Model(inputs=inputs, outputs=predictions)\n",
    "model2.compile(optimizer='adam',\n",
    "              loss='sparse_categorical_crossentropy',\n",
    "              metrics=['accuracy'])\n",
    "display(model2.summary())\n",
    "\n",
    "# テストデータの予測精度を計算します\n",
    "print(model2.evaluate(x_test, y_test))"
   ]
  },
  {
   "cell_type": "markdown",
   "metadata": {},
   "source": [
    "## Appendix: Slice"
   ]
  },
  {
   "cell_type": "code",
   "execution_count": 9,
   "metadata": {},
   "outputs": [
    {
     "data": {
      "text/plain": [
       "array([[10, 20, 30],\n",
       "       [40, 50, 60],\n",
       "       [70, 80, 90]])"
      ]
     },
     "execution_count": 9,
     "metadata": {},
     "output_type": "execute_result"
    }
   ],
   "source": [
    "import numpy as np\n",
    "\n",
    "data = np.array([10, 20, 30, 40, 50, 60, 70, 80, 90,])\n",
    "data2=np.array(data).reshape(3,3) #3×3の配列を作成\n",
    "data2"
   ]
  },
  {
   "cell_type": "code",
   "execution_count": 10,
   "metadata": {},
   "outputs": [
    {
     "data": {
      "text/plain": [
       "array([[10, 20, 30],\n",
       "       [40, 50, 60]])"
      ]
     },
     "execution_count": 10,
     "metadata": {},
     "output_type": "execute_result"
    }
   ],
   "source": [
    "data2[:2,] #0～1行目、すべての列"
   ]
  },
  {
   "cell_type": "code",
   "execution_count": 11,
   "metadata": {},
   "outputs": [
    {
     "data": {
      "text/plain": [
       "array([[10],\n",
       "       [40],\n",
       "       [70]])"
      ]
     },
     "execution_count": 11,
     "metadata": {},
     "output_type": "execute_result"
    }
   ],
   "source": [
    "data2[:,:1] #　全ての行、1列目以降"
   ]
  },
  {
   "cell_type": "code",
   "execution_count": 12,
   "metadata": {},
   "outputs": [
    {
     "data": {
      "text/plain": [
       "array([[20, 30],\n",
       "       [50, 60],\n",
       "       [80, 90]])"
      ]
     },
     "execution_count": 12,
     "metadata": {},
     "output_type": "execute_result"
    }
   ],
   "source": [
    "data2[:,1:] #すべての行、1列目以降"
   ]
  },
  {
   "cell_type": "code",
   "execution_count": 13,
   "metadata": {},
   "outputs": [
    {
     "data": {
      "text/plain": [
       "array([[50, 60],\n",
       "       [80, 90]])"
      ]
     },
     "execution_count": 13,
     "metadata": {},
     "output_type": "execute_result"
    }
   ],
   "source": [
    "data2[1:,1:] #1行目以降、1列目以降"
   ]
  }
 ],
 "metadata": {
  "kernelspec": {
   "display_name": "Python 3",
   "language": "python",
   "name": "python3"
  },
  "language_info": {
   "codemirror_mode": {
    "name": "ipython",
    "version": 3
   },
   "file_extension": ".py",
   "mimetype": "text/x-python",
   "name": "python",
   "nbconvert_exporter": "python",
   "pygments_lexer": "ipython3",
   "version": "3.6.8"
  }
 },
 "nbformat": 4,
 "nbformat_minor": 2
}
